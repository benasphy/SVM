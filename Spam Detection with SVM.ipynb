{
  "nbformat": 4,
  "nbformat_minor": 0,
  "metadata": {
    "colab": {
      "provenance": [],
      "authorship_tag": "ABX9TyPpQRmg6Yv2d1vyhp5g3Alr",
      "include_colab_link": true
    },
    "kernelspec": {
      "name": "python3",
      "display_name": "Python 3"
    },
    "language_info": {
      "name": "python"
    }
  },
  "cells": [
    {
      "cell_type": "markdown",
      "metadata": {
        "id": "view-in-github",
        "colab_type": "text"
      },
      "source": [
        "<a href=\"https://colab.research.google.com/github/benasphy/SVM/blob/main/Spam%20Detection%20with%20SVM.ipynb\" target=\"_parent\"><img src=\"https://colab.research.google.com/assets/colab-badge.svg\" alt=\"Open In Colab\"/></a>"
      ]
    },
    {
      "cell_type": "code",
      "execution_count": 3,
      "metadata": {
        "colab": {
          "base_uri": "https://localhost:8080/"
        },
        "id": "CM5CmSiUoX-9",
        "outputId": "11126ffa-f335-4a01-da43-7fdb4aa24383"
      },
      "outputs": [
        {
          "output_type": "stream",
          "name": "stdout",
          "text": [
            "Accuracy: 0.0\n",
            "Classification Report:\n",
            "               precision    recall  f1-score   support\n",
            "\n",
            "           0       0.00      0.00      0.00       2.0\n",
            "           1       0.00      0.00      0.00       0.0\n",
            "\n",
            "    accuracy                           0.00       2.0\n",
            "   macro avg       0.00      0.00      0.00       2.0\n",
            "weighted avg       0.00      0.00      0.00       2.0\n",
            "\n",
            "Confusion Matrix:\n",
            " [[0 2]\n",
            " [0 0]]\n",
            "Message: 'Free entry in a weekly contest! Text WIN to 80085.'- Predicted Label: spam\n",
            "Message: 'Hey, are you joining us for dinner?'- Predicted Label: spam\n",
            "Message: 'Your loan is pre-approved! Call now to claim.'- Predicted Label: spam\n",
            "Message: 'Can we reschedule our meeting to tomorrow?'- Predicted Label: ham\n"
          ]
        },
        {
          "output_type": "stream",
          "name": "stderr",
          "text": [
            "/usr/local/lib/python3.10/dist-packages/sklearn/metrics/_classification.py:1531: UndefinedMetricWarning: Precision is ill-defined and being set to 0.0 in labels with no predicted samples. Use `zero_division` parameter to control this behavior.\n",
            "  _warn_prf(average, modifier, f\"{metric.capitalize()} is\", len(result))\n",
            "/usr/local/lib/python3.10/dist-packages/sklearn/metrics/_classification.py:1531: UndefinedMetricWarning: Recall is ill-defined and being set to 0.0 in labels with no true samples. Use `zero_division` parameter to control this behavior.\n",
            "  _warn_prf(average, modifier, f\"{metric.capitalize()} is\", len(result))\n",
            "/usr/local/lib/python3.10/dist-packages/sklearn/metrics/_classification.py:1531: UndefinedMetricWarning: Precision is ill-defined and being set to 0.0 in labels with no predicted samples. Use `zero_division` parameter to control this behavior.\n",
            "  _warn_prf(average, modifier, f\"{metric.capitalize()} is\", len(result))\n",
            "/usr/local/lib/python3.10/dist-packages/sklearn/metrics/_classification.py:1531: UndefinedMetricWarning: Recall is ill-defined and being set to 0.0 in labels with no true samples. Use `zero_division` parameter to control this behavior.\n",
            "  _warn_prf(average, modifier, f\"{metric.capitalize()} is\", len(result))\n",
            "/usr/local/lib/python3.10/dist-packages/sklearn/metrics/_classification.py:1531: UndefinedMetricWarning: Precision is ill-defined and being set to 0.0 in labels with no predicted samples. Use `zero_division` parameter to control this behavior.\n",
            "  _warn_prf(average, modifier, f\"{metric.capitalize()} is\", len(result))\n",
            "/usr/local/lib/python3.10/dist-packages/sklearn/metrics/_classification.py:1531: UndefinedMetricWarning: Recall is ill-defined and being set to 0.0 in labels with no true samples. Use `zero_division` parameter to control this behavior.\n",
            "  _warn_prf(average, modifier, f\"{metric.capitalize()} is\", len(result))\n"
          ]
        }
      ],
      "source": [
        "import pandas as pd\n",
        "from sklearn.model_selection import train_test_split\n",
        "from sklearn.feature_extraction.text import TfidfVectorizer\n",
        "from sklearn.svm import SVC\n",
        "from sklearn.metrics import classification_report, accuracy_score, confusion_matrix\n",
        "\n",
        "#Load the dataset\n",
        "\n",
        "data = {\n",
        "    'Message': [\n",
        "        \"Congratulations! You've won a free lottery. Claim now!\",\n",
        "        \"Hi, are we still meeting for lunch today?\",\n",
        "        \"Urgent! Call this number to claim your prize.\",\n",
        "        \"Reminder: Your appointment is scheduled for tomorrow.\",\n",
        "        \"Congratulations! You are selected for a $1000 reward.\",\n",
        "        \"Can you send me the project file by today?\",\n",
        "        \"You have been pre-approved for a $5000 loan.\",\n",
        "        \"Let’s catch up over coffee this weekend.\"\n",
        "\n",
        "\n",
        "\n",
        "    ],\n",
        "    'Label': ['spam', 'ham','spam', 'ham','spam', 'ham','spam', 'ham' ]\n",
        "\n",
        "}\n",
        "\n",
        "#Convert to DataFrame\n",
        "\n",
        "df = pd.DataFrame(data)\n",
        "\n",
        "#Encoding\n",
        "\n",
        "df['Label'] = df['Label'].map({'ham': 0, 'spam': 1})\n",
        "\n",
        "#Split the dataset\n",
        "\n",
        "X = df['Message']\n",
        "y = df['Label']\n",
        "\n",
        "#Split into train and test data\n",
        "\n",
        "X_train, X_test, y_train, y_test = train_test_split(X, y, test_size = 0.2, random_state = 42)\n",
        "\n",
        "# convert text dataset into TF-IDF Vectors\n",
        "\n",
        "tfidf = TfidfVectorizer(stop_words = 'english', max_df = 0.8)\n",
        "X_train_tfidf = tfidf.fit_transform(X_train)\n",
        "X_test_tfidf = tfidf.transform(X_test)\n",
        "\n",
        "#Train the model\n",
        "\n",
        "svm = SVC(kernel = 'linear', C = 1.0)\n",
        "svm.fit(X_train_tfidf, y_train)\n",
        "\n",
        "#Make a prediction\n",
        "\n",
        "y_pred = svm.predict(X_test_tfidf)\n",
        "\n",
        "#Evaluate the model\n",
        "\n",
        "accuracy = accuracy_score(y_test, y_pred)\n",
        "print('Accuracy:', accuracy)\n",
        "\n",
        "report = classification_report(y_test, y_pred)\n",
        "print('Classification Report:\\n', report)\n",
        "\n",
        "confusion = confusion_matrix(y_test, y_pred)\n",
        "print('Confusion Matrix:\\n', confusion)\n",
        "\n",
        "#Test the model on New examples\n",
        "\n",
        "new_messages = [\n",
        "    \"Free entry in a weekly contest! Text WIN to 80085.\",\n",
        "    \"Hey, are you joining us for dinner?\",\n",
        "    \"Your loan is pre-approved! Call now to claim.\",\n",
        "    \"Can we reschedule our meeting to tomorrow?\"\n",
        "\n",
        "]\n",
        "\n",
        "#Transform the New Message into TF-IDF vectors\n",
        "\n",
        "new_messages_tfidf = tfidf.transform(new_messages)\n",
        "\n",
        "#Make a prediction\n",
        "\n",
        "predictions = svm.predict(new_messages_tfidf)\n",
        "\n",
        "#Print the predictions\n",
        "\n",
        "for msg,label in zip(new_messages, predictions):\n",
        "    print(f\"Message: '{msg}'- Predicted Label: {'spam' if label == 1 else 'ham'}\")"
      ]
    }
  ]
}